{
 "cells": [
  {
   "cell_type": "code",
   "execution_count": 2,
   "metadata": {},
   "outputs": [
    {
     "name": "stdout",
     "output_type": "stream",
     "text": [
      "A B C D I G E F K "
     ]
    }
   ],
   "source": [
    "# khởi tạo graph\n",
    "graph = {\n",
    "  'A' : ['B', 'C', 'D'],\n",
    "  'B' : ['I', 'G'],\n",
    "  'C' : ['E', 'F'],\n",
    "  'D' : ['C', 'F'],\n",
    "  'I' : ['G'],\n",
    "  'E' : ['G', 'K'],\n",
    "  'F' : ['K'],\n",
    "  'G' : [],\n",
    "  'K' : []\n",
    "}\n",
    "\n",
    "visited = [] # danh sách các nút đã truy nhập\n",
    "queue = []     # danh sách hàng đợi\n",
    "\n",
    "def bfs(visited, graph, node):\n",
    "  visited.append(node)\n",
    "  queue.append(node)\n",
    "\n",
    "  while queue:\n",
    "    s = queue.pop(0) # loại bỏ nút đầu tiên trong hàng đợi\n",
    "    print (s, end = \" \") \n",
    "\n",
    "    for neighbour in graph[s]:\n",
    "      if neighbour not in visited:\n",
    "        visited.append(neighbour)\n",
    "        queue.append(neighbour)\n",
    "\n",
    "# Driver Code\n",
    "bfs(visited, graph, 'A')"
   ]
  },
  {
   "cell_type": "code",
   "execution_count": 3,
   "metadata": {},
   "outputs": [
    {
     "name": "stdout",
     "output_type": "stream",
     "text": [
      "Tất cả các đường đi từ A đến K là:\n",
      "['A', 'C', 'E', 'K']\n",
      "['A', 'C', 'F', 'K']\n",
      "['A', 'D', 'C', 'E', 'K']\n",
      "['A', 'D', 'C', 'F', 'K']\n",
      "['A', 'D', 'F', 'K']\n"
     ]
    }
   ],
   "source": [
    "def dfs_paths(graph, start, end, path=[]):\n",
    "    path = path + [start]\n",
    "    if start == end:\n",
    "        return [path]\n",
    "    if start not in graph:\n",
    "        return []\n",
    "    paths = []\n",
    "    for node in graph[start]:\n",
    "        if node not in path:\n",
    "            new_paths = dfs_paths(graph, node, end, path)\n",
    "            for new_path in new_paths:\n",
    "                paths.append(new_path)\n",
    "    return paths\n",
    "\n",
    "graph = {\n",
    "    'A' : ['B', 'C', 'D'],\n",
    "    'B' : ['I', 'G'],\n",
    "    'C' : ['E', 'F'],\n",
    "    'D' : ['C', 'F'],\n",
    "    'I' : ['G'],\n",
    "    'E' : ['G', 'K'],\n",
    "    'F' : ['K'],\n",
    "    'G' : [],\n",
    "    'K' : []\n",
    "}\n",
    "\n",
    "start_node = 'A'\n",
    "end_node = 'K'\n",
    "all_paths = dfs_paths(graph, start_node, end_node)\n",
    "print(\"Tất cả các đường đi từ\", start_node, \"đến\", end_node, \"là:\")\n",
    "for path in all_paths:\n",
    "    print(path)\n"
   ]
  }
 ],
 "metadata": {
  "kernelspec": {
   "display_name": "base",
   "language": "python",
   "name": "python3"
  },
  "language_info": {
   "codemirror_mode": {
    "name": "ipython",
    "version": 3
   },
   "file_extension": ".py",
   "mimetype": "text/x-python",
   "name": "python",
   "nbconvert_exporter": "python",
   "pygments_lexer": "ipython3",
   "version": "3.11.5"
  }
 },
 "nbformat": 4,
 "nbformat_minor": 2
}
