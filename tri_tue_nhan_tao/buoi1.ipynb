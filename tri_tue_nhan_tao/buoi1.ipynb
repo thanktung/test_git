{
 "cells": [
  {
   "cell_type": "code",
   "execution_count": 3,
   "metadata": {},
   "outputs": [
    {
     "name": "stdout",
     "output_type": "stream",
     "text": [
      "9.0\n"
     ]
    }
   ],
   "source": [
    "a = float(input(\"nhap a: \"))\n",
    "b = float(input(\"nhap b: \"))\n",
    "c=a+b\n",
    "print(c)"
   ]
  },
  {
   "cell_type": "code",
   "execution_count": 8,
   "metadata": {},
   "outputs": [
    {
     "name": "stdout",
     "output_type": "stream",
     "text": [
      "tam giac khong ton tai.\n"
     ]
    }
   ],
   "source": [
    "import math\n",
    "\n",
    "a = float(input(\"nhap a: \"))\n",
    "b = float(input(\"nhap b: \"))\n",
    "c = float(input(\"nhap c: \"))\n",
    "\n",
    "if a+b<=c or b+c<=a or c+a<=b:\n",
    "    print(\"tam giac khong ton tai.\")\n",
    "else:    \n",
    "    p = (a+b+c)/2\n",
    "    s = math.sqrt(p*(p-a)*(p-b)*(p-c))\n",
    "    print(\"dien tich tam giac la: \", s)"
   ]
  },
  {
   "cell_type": "code",
   "execution_count": 17,
   "metadata": {},
   "outputs": [
    {
     "name": "stdout",
     "output_type": "stream",
     "text": [
      "Phương trình có hai nghiệm phân biệt x1: -8.0 và x2: -4.0\n"
     ]
    }
   ],
   "source": [
    "# giai phuong trinh bac 2\n",
    "# ax^2 + bx + c = 0\n",
    "\n",
    "import math\n",
    "\n",
    "a = float(input(\"nhap a: \"))\n",
    "b = float(input(\"nhap b: \"))\n",
    "c = float(input(\"nhap c: \"))\n",
    "\n",
    "if a==0:\n",
    "    if b==0:\n",
    "        print(\"phuong trinh khong ton tai.\")\n",
    "    else:\n",
    "        print(\"phuong trinh bac 1, nghiem cua phuong trinh la: \", -c/b)\n",
    "else:  \n",
    "    delta = b**2-4*a*c\n",
    "    if delta < 0:\n",
    "        print(\"phuong trinh vo nghiem.\")\n",
    "    elif delta == 0:\n",
    "        x = x=-b/(2*a)\n",
    "        print(\"phuong trinh co nghiem kep: \", x)\n",
    "    else:\n",
    "        x1 = (-b - math.sqrt(delta) / (2*a))\n",
    "        x2 = (-b + math.sqrt(delta) / (2*a))\n",
    "        print(\"Phương trình có hai nghiệm phân biệt x1:\", x1, \"và x2:\", x2)"
   ]
  },
  {
   "cell_type": "code",
   "execution_count": 24,
   "metadata": {},
   "outputs": [
    {
     "name": "stdout",
     "output_type": "stream",
     "text": [
      "Số con gà: 22\n",
      "Số con chó: 14\n"
     ]
    }
   ],
   "source": [
    "def solve(n, m):\n",
    "    for x in range(n+1):\n",
    "        y = n - x\n",
    "        if x*2 + y*4 == m:\n",
    "            return x, y\n",
    "        \n",
    "ketqua = solve(36, 100)\n",
    "if ketqua:\n",
    "    print(\"Số con gà:\", ketqua[0])\n",
    "    print(\"Số con chó:\", ketqua[1])\n",
    "else:\n",
    "    print(\"Không có giải pháp phù hợp.\")"
   ]
  },
  {
   "cell_type": "code",
   "execution_count": 36,
   "metadata": {},
   "outputs": [
    {
     "name": "stdout",
     "output_type": "stream",
     "text": [
      "Có 3 tập nghiệm:\n",
      "Tập nghiệm 1:\n",
      "Số trâu đứng: 4\n",
      "Số trâu nằm: 18\n",
      "Số trâu già: 78\n",
      "\n",
      "Tập nghiệm 2:\n",
      "Số trâu đứng: 8\n",
      "Số trâu nằm: 11\n",
      "Số trâu già: 81\n",
      "\n",
      "Tập nghiệm 3:\n",
      "Số trâu đứng: 12\n",
      "Số trâu nằm: 4\n",
      "Số trâu già: 84\n",
      "\n"
     ]
    }
   ],
   "source": [
    "def solve_1(a, b):\n",
    "    ketqua = []\n",
    "    for x in range(1, a+1):\n",
    "        for y in range(1, a+1):  \n",
    "            z = 100 - x - y\n",
    "            if 5*x + 3*y + z/3 == b:\n",
    "                ketqua.append((x, y, z))\n",
    "    return ketqua  \n",
    "\n",
    "ketqua = solve_1(100, 100)\n",
    "if ketqua:\n",
    "    print(\"Có\", len(ketqua), \"tập nghiệm:\")\n",
    "    \n",
    "    for idx in range(1, len(ketqua)+1):\n",
    "        print(f\"Tập nghiệm {idx}:\")\n",
    "        print(\"Số trâu đứng:\", ketqua[idx-1][0])\n",
    "        print(\"Số trâu nằm:\", ketqua[idx-1][1])\n",
    "        print(\"Số trâu già:\", ketqua[idx-1][2])\n",
    "        print()\n",
    "else:\n",
    "    print(\"Không có giải pháp phù hợp.\")"
   ]
  },
  {
   "cell_type": "code",
   "execution_count": 39,
   "metadata": {},
   "outputs": [
    {
     "name": "stdout",
     "output_type": "stream",
     "text": [
      "[153, 370, 371, 407]\n"
     ]
    }
   ],
   "source": [
    "ketqua_1 = []\n",
    "for a in range(1,10):\n",
    "    for b in range(10):\n",
    "        for c in range(10):\n",
    "            if a*100 + b*10 + c == a**3 + b**3 + c**3:\n",
    "                ketqua_1.append(a*100 + b*10 + c)\n",
    "                \n",
    "print(ketqua_1)  "
   ]
  },
  {
   "cell_type": "code",
   "execution_count": 50,
   "metadata": {},
   "outputs": [
    {
     "name": "stdout",
     "output_type": "stream",
     "text": [
      "89\n"
     ]
    }
   ],
   "source": [
    "def fibonacci(n):\n",
    "    if n==0:\n",
    "        return 1\n",
    "    elif n==1:\n",
    "        return 1\n",
    "    else:\n",
    "        return fibonacci(n-1) + fibonacci(n-2)\n",
    "    \n",
    "print(fibonacci(10))\n",
    "    "
   ]
  },
  {
   "cell_type": "code",
   "execution_count": 56,
   "metadata": {},
   "outputs": [
    {
     "name": "stdout",
     "output_type": "stream",
     "text": [
      "Số nhị phân tương ứng là: 1010"
     ]
    }
   ],
   "source": [
    "def decimal_to_binary(n):\n",
    "    if n > 1:\n",
    "        decimal_to_binary(n // 2)\n",
    "    print(n % 2, end='')\n",
    "\n",
    "decimal_number = 10\n",
    "\n",
    "if decimal_number < 0:\n",
    "    print(\"Vui lòng nhập một số nguyên dương.\")\n",
    "elif decimal_number == 0:\n",
    "    print(\"Số nhị phân tương ứng là 0.\")\n",
    "else:\n",
    "    print(\"Số nhị phân tương ứng là: \", end='')\n",
    "    decimal_to_binary(decimal_number)\n"
   ]
  },
  {
   "cell_type": "code",
   "execution_count": 58,
   "metadata": {},
   "outputs": [
    {
     "ename": "TypeError",
     "evalue": "Kernel.raw_input() takes from 1 to 2 positional arguments but 3 were given",
     "output_type": "error",
     "traceback": [
      "\u001b[1;31m---------------------------------------------------------------------------\u001b[0m",
      "\u001b[1;31mTypeError\u001b[0m                                 Traceback (most recent call last)",
      "Cell \u001b[1;32mIn[58], line 4\u001b[0m\n\u001b[0;32m      2\u001b[0m n\u001b[38;5;241m=\u001b[39m\u001b[38;5;28mint\u001b[39m(\u001b[38;5;28minput\u001b[39m(\u001b[38;5;124m\"\u001b[39m\u001b[38;5;124mnhap so phan tu: \u001b[39m\u001b[38;5;124m\"\u001b[39m))\n\u001b[0;32m      3\u001b[0m \u001b[38;5;28;01mfor\u001b[39;00m i \u001b[38;5;129;01min\u001b[39;00m \u001b[38;5;28mrange\u001b[39m(n):\n\u001b[1;32m----> 4\u001b[0m     temp \u001b[38;5;241m=\u001b[39m \u001b[38;5;28mint\u001b[39m(\u001b[38;5;28minput\u001b[39m(\u001b[38;5;124m\"\u001b[39m\u001b[38;5;124mNhap phan tu thu \u001b[39m\u001b[38;5;124m\"\u001b[39m, i))\n\u001b[0;32m      5\u001b[0m     mang\u001b[38;5;241m.\u001b[39mappend(temp)\n",
      "\u001b[1;31mTypeError\u001b[0m: Kernel.raw_input() takes from 1 to 2 positional arguments but 3 were given"
     ]
    }
   ],
   "source": [
    "mang =[]\n",
    "n=int(input(\"nhap so phan tu: \"))\n",
    "for i in range(n):\n",
    "    temp = int(input(\"Nhap phan tu thu \", i))\n",
    "    mang.append(temp)"
   ]
  }
 ],
 "metadata": {
  "kernelspec": {
   "display_name": "base",
   "language": "python",
   "name": "python3"
  },
  "language_info": {
   "codemirror_mode": {
    "name": "ipython",
    "version": 3
   },
   "file_extension": ".py",
   "mimetype": "text/x-python",
   "name": "python",
   "nbconvert_exporter": "python",
   "pygments_lexer": "ipython3",
   "version": "3.11.5"
  }
 },
 "nbformat": 4,
 "nbformat_minor": 2
}
